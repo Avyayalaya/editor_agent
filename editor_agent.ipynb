{
 "cells": [
  {
   "cell_type": "markdown",
   "id": "c5b21860",
   "metadata": {},
   "source": [
    "# 🧠 Editorial Agent Notebook\n",
    "Run the agent step by step using this interactive notebook."
   ]
  },
  {
   "cell_type": "code",
   "execution_count": null,
   "id": "76b9a7f6",
   "metadata": {},
   "outputs": [],
   "source": [
    "# ✅ Setup: Import libraries and load environment\n",
    "import os\n",
    "from dotenv import load_dotenv\n",
    "load_dotenv()\n",
    "\n",
    "from scripts.editor_chunker import chunk_document\n",
    "from scripts.editor_reviewer import review_chunks\n",
    "from scripts.editor_report_writer import write_report"
   ]
  },
  {
   "cell_type": "code",
   "execution_count": null,
   "id": "7f20cd73",
   "metadata": {},
   "outputs": [],
   "source": [
    "# ✅ Step 1: Set input file path\n",
    "filename = \"input_documents/sample1.pdf\"  # Change this to your file"
   ]
  },
  {
   "cell_type": "code",
   "execution_count": null,
   "id": "205e5433",
   "metadata": {},
   "outputs": [],
   "source": [
    "# ✅ Step 2: Chunk the document\n",
    "chunks = chunk_document(filename)\n",
    "print(f\"📄 Document split into {len(chunks)} chunks\")"
   ]
  },
  {
   "cell_type": "code",
   "execution_count": null,
   "id": "009ca728",
   "metadata": {},
   "outputs": [],
   "source": [
    "# ✅ Step 3: Review all chunks\n",
    "feedback_list, total_score, verdict = review_chunks(chunks)\n",
    "print(f\"🧠 Review complete — Score: {total_score}/10, Verdict: {verdict}\")"
   ]
  },
  {
   "cell_type": "code",
   "execution_count": null,
   "id": "af3ab14b",
   "metadata": {},
   "outputs": [],
   "source": [
    "# ✅ Step 4: Write report to output_reports/\n",
    "report_path = write_report(filename, feedback_list, total_score, verdict)\n",
    "print(f\"📁 Final report saved to: {report_path}\")"
   ]
  },
  {
   "cell_type": "code",
   "execution_count": null,
   "id": "e9a6d068",
   "metadata": {},
   "outputs": [],
   "source": [
    "# ✅ Step 5: View one chunk’s feedback\n",
    "from IPython.display import Markdown, display\n",
    "\n",
    "chunk_number = 1  # Change this to see other chunks\n",
    "display(Markdown(feedback_list[chunk_number - 1][1]))"
   ]
  }
 ],
 "metadata": {
  "kernelspec": {
   "display_name": "Python 3",
   "name": "python3"
  }
 },
 "nbformat": 4,
 "nbformat_minor": 5
}
